{
 "cells": [
  {
   "cell_type": "code",
   "execution_count": 1,
   "metadata": {},
   "outputs": [],
   "source": [
    "import os\n",
    "import numpy as np\n",
    "from PIL import Image"
   ]
  },
  {
   "cell_type": "code",
   "execution_count": 2,
   "metadata": {},
   "outputs": [],
   "source": [
    "# file_path = 'data/ISTD/test/test_B/100-1.png'\n",
    "file_path = 'data/data_odometry_gray/dataset/sequences/00/test_A/000000.png'\n",
    "\n",
    "def get_image_dimensions(image_path):\n",
    "    with Image.open(file_path) as img:\n",
    "        width, height = img.size\n",
    "    return width, height"
   ]
  },
  {
   "cell_type": "code",
   "execution_count": 3,
   "metadata": {},
   "outputs": [
    {
     "name": "stdout",
     "output_type": "stream",
     "text": [
      "Image dimensions: 1241x376 pixels\n"
     ]
    }
   ],
   "source": [
    "width, height = get_image_dimensions(file_path)\n",
    "print(f\"Image dimensions: {width}x{height} pixels\")"
   ]
  },
  {
   "cell_type": "code",
   "execution_count": 33,
   "metadata": {},
   "outputs": [],
   "source": [
    "def resize_images_in_directory(source_dir, target_dir, target_size):\n",
    "    # Create the target directory if it doesn't exist\n",
    "    os.makedirs(target_dir, exist_ok=True)\n",
    "\n",
    "    # Iterate over all files in the source directory\n",
    "    for filename in os.listdir(source_dir):\n",
    "        if filename.endswith(\".png\"):  # Check for PNG files\n",
    "            # Construct the full file path\n",
    "            file_path = os.path.join(source_dir, filename)\n",
    "            # Open the image\n",
    "            with Image.open(file_path) as img:\n",
    "                img = np.array(img)/255.0\n",
    "                img = Image.fromarray(np.uint8(img*255)) \n",
    "                # Resize the image\n",
    "                resized_img = img.resize(target_size)\n",
    "\n",
    "                # Construct the full path for the resized image\n",
    "                target_file_path = os.path.join(target_dir, filename)\n",
    "                # Save the resized image\n",
    "                resized_img.save(target_file_path)\n",
    "\n",
    "def resize_images_in_multiple_directories(base_source_dir, base_target_dir, target_size):\n",
    "    # List of subdirectories to process\n",
    "    # subdirs = ['train_A', 'train_B', 'train_C']\n",
    "    subdirs = ['test_A_og']\n",
    "\n",
    "    for subdir in subdirs:\n",
    "        source_dir = os.path.join(base_source_dir, subdir)\n",
    "        target_dir = os.path.join(base_target_dir, subdir)\n",
    "\n",
    "        resize_images_in_directory(source_dir, target_dir, target_size)\n",
    "\n",
    "# Specify the base source and target directories\n",
    "base_source_directory = 'data/S01_8Hz/'\n",
    "base_target_directory = 'data/S01_8Hz/test_A'\n",
    "\n",
    "# Set the target size\n",
    "# target_size = (480, 360)\n",
    "target_size = (1241, 376)\n",
    "\n",
    "# Call the function\n",
    "resize_images_in_multiple_directories(base_source_directory, base_target_directory, target_size)"
   ]
  },
  {
   "cell_type": "code",
   "execution_count": 34,
   "metadata": {},
   "outputs": [
    {
     "name": "stdout",
     "output_type": "stream",
     "text": [
      "Image dimensions: 480x360 pixels\n"
     ]
    }
   ],
   "source": [
    "file_path = 'data/ISTD/train/train_B/1-1.png'\n",
    "width, height = get_image_dimensions(file_path)\n",
    "print(f\"Image dimensions: {width}x{height} pixels\")"
   ]
  }
 ],
 "metadata": {
  "kernelspec": {
   "display_name": "Python 3",
   "language": "python",
   "name": "python3"
  },
  "language_info": {
   "codemirror_mode": {
    "name": "ipython",
    "version": 3
   },
   "file_extension": ".py",
   "mimetype": "text/x-python",
   "name": "python",
   "nbconvert_exporter": "python",
   "pygments_lexer": "ipython3",
   "version": "3.8.10"
  }
 },
 "nbformat": 4,
 "nbformat_minor": 2
}
